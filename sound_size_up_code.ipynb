{
 "cells": [
  {
   "cell_type": "code",
   "execution_count": null,
   "metadata": {},
   "outputs": [],
   "source": [
    "from pydub import AudioSegment\n",
    "import os\n",
    "\n",
    "# Define the directory containing the MP3 files\n",
    "directory = r\"C:\\Users\\sound\"\n",
    "\n",
    "# Check if the directory exists\n",
    "if os.path.exists(directory):\n",
    "    print(\"Directory found!\")\n",
    "    \n",
    "    # Loop through all files in the directory\n",
    "    for filename in os.listdir(directory):\n",
    "        if filename.endswith(\".mp3\"):\n",
    "            file_path = os.path.join(directory, filename)  # Full path to the MP3 file\n",
    "            print(f\"Processing file: {file_path}\")\n",
    "\n",
    "            try:\n",
    "                # Load the audio file\n",
    "                audio = AudioSegment.from_mp3(file_path)\n",
    "\n",
    "                # Increase volume by 18dB\n",
    "                volume_increased = audio + 18\n",
    "\n",
    "                # Create output file path\n",
    "                output_file_path = os.path.join(directory, f\"output_{filename}\")\n",
    "                \n",
    "                # Export the result to a new file\n",
    "                volume_increased.export(output_file_path, format=\"mp3\")\n",
    "                print(f\"Exported to: {output_file_path}\")\n",
    "            except Exception as e:\n",
    "                print(f\"Error processing {file_path}: {e}\")\n",
    "else:\n",
    "    print(\"Directory not found!\")\n"
   ]
  },
  {
   "cell_type": "code",
   "execution_count": null,
   "metadata": {},
   "outputs": [],
   "source": []
  }
 ],
 "metadata": {
  "kernelspec": {
   "display_name": "Python 3",
   "language": "python",
   "name": "python3"
  },
  "language_info": {
   "codemirror_mode": {
    "name": "ipython",
    "version": 3
   },
   "file_extension": ".py",
   "mimetype": "text/x-python",
   "name": "python",
   "nbconvert_exporter": "python",
   "pygments_lexer": "ipython3",
   "version": "3.12.3"
  }
 },
 "nbformat": 4,
 "nbformat_minor": 2
}
